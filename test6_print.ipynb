{
 "cells": [
  {
   "cell_type": "code",
   "execution_count": 1,
   "metadata": {},
   "outputs": [
    {
     "name": "stdout",
     "output_type": "stream",
     "text": [
      "100\n",
      "안녕하세요\n",
      "10 20 30\n",
      "Hello World\n"
     ]
    }
   ],
   "source": [
    "print(100)\n",
    "print('안녕하세요')\n",
    "print(10, 20, 30)\n",
    "print('Hello', 'World')"
   ]
  },
  {
   "cell_type": "code",
   "execution_count": 2,
   "metadata": {},
   "outputs": [
    {
     "name": "stdout",
     "output_type": "stream",
     "text": [
      "10,20,30\n",
      "10=>20=>30\n",
      "102030\n"
     ]
    }
   ],
   "source": [
    "print(10,20,30, sep=',')\n",
    "print(10,20,30, sep='=>')\n",
    "print(10,20,30, sep='')"
   ]
  },
  {
   "cell_type": "code",
   "execution_count": 3,
   "metadata": {},
   "outputs": [
    {
     "name": "stdout",
     "output_type": "stream",
     "text": [
      "인생은 짧다.\n",
      "내 다리도 짧다.\n"
     ]
    }
   ],
   "source": [
    "print('인생은 짧다.\\n내 다리도 짧다.')"
   ]
  },
  {
   "cell_type": "code",
   "execution_count": 4,
   "metadata": {},
   "outputs": [
    {
     "name": "stdout",
     "output_type": "stream",
     "text": [
      "인생은 짧다.\n",
      "내 다리도 짧다.\n",
      "==========\n",
      "인생은 짧다.내 다리도 짧다\n"
     ]
    }
   ],
   "source": [
    "print('인생은 짧다.')\n",
    "print('내 다리도 짧다.')\n",
    "print('==========')\n",
    "print('인생은 짧다.',end='')\n",
    "print('내 다리도 짧다')"
   ]
  },
  {
   "cell_type": "code",
   "execution_count": 5,
   "metadata": {},
   "outputs": [
    {
     "name": "stdout",
     "output_type": "stream",
     "text": [
      "저 산 위에 바위는 크다.!\n",
      "내 머리도 크다.!\n"
     ]
    }
   ],
   "source": [
    "print('저 산 위에 바위는 크다.',end='!\\n')\n",
    "print('내 머리도 크다.',end='!\\n')\n"
   ]
  },
  {
   "cell_type": "code",
   "execution_count": null,
   "metadata": {},
   "outputs": [],
   "source": []
  }
 ],
 "metadata": {
  "kernelspec": {
   "display_name": "Python 3",
   "language": "python",
   "name": "python3"
  },
  "language_info": {
   "codemirror_mode": {
    "name": "ipython",
    "version": 3
   },
   "file_extension": ".py",
   "mimetype": "text/x-python",
   "name": "python",
   "nbconvert_exporter": "python",
   "pygments_lexer": "ipython3",
   "version": "3.7.1"
  }
 },
 "nbformat": 4,
 "nbformat_minor": 2
}
