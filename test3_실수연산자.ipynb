{
 "cells": [
  {
   "cell_type": "code",
   "execution_count": 1,
   "metadata": {},
   "outputs": [
    {
     "name": "stdout",
     "output_type": "stream",
     "text": [
      "7.0\n",
      "8.0\n",
      "13.445\n"
     ]
    }
   ],
   "source": [
    "print(float(7)) #정수값을 실수로 변환한다.\n",
    "print(float(2*4)) #수식의 실행 결과를 실수로 변환한다.\n",
    "print(float('13.445')) #문자열을 실수로 변환한다."
   ]
  },
  {
   "cell_type": "markdown",
   "metadata": {},
   "source": [
    "3. 괄호를 사용한 연산 우선 순서 제어하기\n",
    "\n",
    "* 한 수식에서 곱셈, 나눗셈은 덧셈, 뺄셈보다 먼저 계산한다.  \n",
    "* 괄호'()'에 묶인 계산식을 우선해서 계산한다.  "
   ]
  },
  {
   "cell_type": "code",
   "execution_count": null,
   "metadata": {},
   "outputs": [],
   "source": [
    "print(3 + 7 * 4) #연산 우선 순위에 따라 곱셈이 먼저 계산된다.\n",
    "print((3+7) * 4) #연산 우선 순위에 따라 괄호가 먼저 계산되낟."
   ]
  }
 ],
 "metadata": {
  "kernelspec": {
   "display_name": "Python 3",
   "language": "python",
   "name": "python3"
  },
  "language_info": {
   "codemirror_mode": {
    "name": "ipython",
    "version": 3
   },
   "file_extension": ".py",
   "mimetype": "text/x-python",
   "name": "python",
   "nbconvert_exporter": "python",
   "pygments_lexer": "ipython3",
   "version": "3.7.1"
  }
 },
 "nbformat": 4,
 "nbformat_minor": 2
}
