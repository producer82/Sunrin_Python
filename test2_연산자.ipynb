{
 "cells": [
  {
   "cell_type": "code",
   "execution_count": 5,
   "metadata": {
    "scrolled": false
   },
   "outputs": [
    {
     "name": "stdout",
     "output_type": "stream",
     "text": [
      "2\n",
      "8\n",
      "5.0\n",
      "-2\n"
     ]
    }
   ],
   "source": [
    "print(1+1)\n",
    "print(2*4)\n",
    "print(10/2)\n",
    "print(2-4)"
   ]
  },
  {
   "cell_type": "markdown",
   "metadata": {},
   "source": [
    "#### 결과가 정수인 나눗셈을 하여도 타입은 실수이다"
   ]
  },
  {
   "cell_type": "code",
   "execution_count": 3,
   "metadata": {
    "scrolled": false
   },
   "outputs": [
    {
     "name": "stdout",
     "output_type": "stream",
     "text": [
      "3.5\n"
     ]
    }
   ],
   "source": [
    "#정수끼리의 나눗셈이 소수점 이하 값이 출력된다.\n",
    "print(28/8)"
   ]
  },
  {
   "cell_type": "markdown",
   "metadata": {},
   "source": [
    "#### 소수점 이하의 결과는 버리는 나눗셈을 하려면 다음 예제와 같이 '//' 연산자를 사용한다."
   ]
  },
  {
   "cell_type": "code",
   "execution_count": 6,
   "metadata": {},
   "outputs": [
    {
     "name": "stdout",
     "output_type": "stream",
     "text": [
      "3\n"
     ]
    },
    {
     "data": {
      "text/plain": [
       "int"
      ]
     },
     "execution_count": 6,
     "metadata": {},
     "output_type": "execute_result"
    }
   ],
   "source": [
    "a = (28//8)\n",
    "print(a)\n",
    "type(a)"
   ]
  },
  {
   "cell_type": "code",
   "execution_count": 7,
   "metadata": {},
   "outputs": [
    {
     "name": "stdout",
     "output_type": "stream",
     "text": [
      "3.0\n"
     ]
    },
    {
     "data": {
      "text/plain": [
       "float"
      ]
     },
     "execution_count": 7,
     "metadata": {},
     "output_type": "execute_result"
    }
   ],
   "source": [
    "#실수가 포함된 나눗셈이라고 해도 소수점 이하 값은 버린다. 하지만 결과값의 타입은 실수형이다.\n",
    "a = (28//8.0)\n",
    "print(a)\n",
    "type(a)"
   ]
  },
  {
   "cell_type": "markdown",
   "metadata": {},
   "source": [
    "### 정수값의 범위"
   ]
  },
  {
   "cell_type": "code",
   "execution_count": 9,
   "metadata": {},
   "outputs": [
    {
     "name": "stdout",
     "output_type": "stream",
     "text": [
      "9223372036854775807\n",
      "9223372036854775808\n",
      "<class 'int'>\n",
      "<class 'int'>\n",
      "85070591730234615847396907784232501249\n"
     ]
    }
   ],
   "source": [
    "import sys\n",
    "t1 = sys.maxsize # 최대값을 이미한다. 32비트 버전과 64비트 버전의 최대값은 다르다\n",
    "t2 = sys.maxsize + 1\n",
    "\n",
    "print(t1)\n",
    "print(t2)\n",
    "print(type(t1))\n",
    "print(type(t2))\n",
    "print(t1*t1)"
   ]
  },
  {
   "cell_type": "markdown",
   "metadata": {},
   "source": [
    "#### 위 예제에서 보는 것처럼 최대값을 초과하는 정수값을 변수에 넣어도 오버플로우가 발생하지 않고, \n",
    "#### 정상적으로 값을 출력하는 것을 볼 수 있다. 심지어 128비트 정수값도 오버플로우 없이 처리하는 것을 볼 수 있다.\n",
    "#### 파이썬은 정수값 범위에 제한없이 메모리가 허용하는 범위 내에서 정수값을 표현한다."
   ]
  },
  {
   "cell_type": "markdown",
   "metadata": {},
   "source": [
    "### 나머지 및 승수"
   ]
  },
  {
   "cell_type": "code",
   "execution_count": 10,
   "metadata": {},
   "outputs": [
    {
     "name": "stdout",
     "output_type": "stream",
     "text": [
      "1\n",
      "3\n",
      "1024\n",
      "1048576\n",
      "1073741824\n"
     ]
    }
   ],
   "source": [
    "print(5%2)\n",
    "print(33%5)\n",
    "print(2**10) #2의 10승\n",
    "print(2**20) #2의 20승\n",
    "print(2**30) #2의 30승"
   ]
  },
  {
   "cell_type": "code",
   "execution_count": 12,
   "metadata": {},
   "outputs": [
    {
     "name": "stdout",
     "output_type": "stream",
     "text": [
      "0.5999999999999996\n"
     ]
    }
   ],
   "source": [
    "print(5%2.2) #나머지 연산에 실수값을 사용할 수도 있다.\n",
    "print(5%2.0) #실수가 포함된 나머지 연산의 결과값은 실수이다."
   ]
  },
  {
   "cell_type": "markdown",
   "metadata": {},
   "source": [
    "### 정수로 형변환하기\n",
    " * 값을 정수형으로 변한하기 위해서는 int() 함수를 사용한다.\n",
    " * 문자열을 정수형으로 변환하기 위해서도 int() 함수를 사용한다."
   ]
  },
  {
   "cell_type": "code",
   "execution_count": 13,
   "metadata": {},
   "outputs": [
    {
     "name": "stdout",
     "output_type": "stream",
     "text": [
      "5\n",
      "7\n",
      "710325\n"
     ]
    }
   ],
   "source": [
    "print(int(5.3))\n",
    "print(int(7.7))\n",
    "print(int('710325'))"
   ]
  },
  {
   "cell_type": "markdown",
   "metadata": {},
   "source": [
    "### 실수 연산 오차"
   ]
  },
  {
   "cell_type": "code",
   "execution_count": 14,
   "metadata": {},
   "outputs": [
    {
     "name": "stdout",
     "output_type": "stream",
     "text": [
      "5.6\n",
      "1.5999999999999996\n",
      "4.65\n",
      "1.7741935483870968\n"
     ]
    }
   ],
   "source": [
    "print(3.5 + 2.1)\n",
    "print(4.3 - 2.7)\n",
    "print(1.5 * 3.1)\n",
    "print(5.5 / 3.1)"
   ]
  },
  {
   "cell_type": "code",
   "execution_count": 15,
   "metadata": {},
   "outputs": [
    {
     "name": "stdout",
     "output_type": "stream",
     "text": [
      "0.30000000000000004\n"
     ]
    }
   ],
   "source": [
    "print(0.2 + 0.1) #덧셈에서도 오차가 발생할 수 있다."
   ]
  },
  {
   "cell_type": "markdown",
   "metadata": {},
   "source": [
    "#### 실수끼리의 계산은 오차가 발생할 수 있으므로 정밀한 계산값을 필요로 하는 계산에서는 주의할 필요가 있다."
   ]
  },
  {
   "cell_type": "code",
   "execution_count": 16,
   "metadata": {},
   "outputs": [
    {
     "name": "stdout",
     "output_type": "stream",
     "text": [
      "12.2\n"
     ]
    }
   ],
   "source": [
    "print(6 + 6.2)"
   ]
  },
  {
   "cell_type": "code",
   "execution_count": null,
   "metadata": {},
   "outputs": [],
   "source": []
  }
 ],
 "metadata": {
  "kernelspec": {
   "display_name": "Python 3",
   "language": "python",
   "name": "python3"
  },
  "language_info": {
   "codemirror_mode": {
    "name": "ipython",
    "version": 3
   },
   "file_extension": ".py",
   "mimetype": "text/x-python",
   "name": "python",
   "nbconvert_exporter": "python",
   "pygments_lexer": "ipython3",
   "version": "3.7.1"
  }
 },
 "nbformat": 4,
 "nbformat_minor": 2
}
